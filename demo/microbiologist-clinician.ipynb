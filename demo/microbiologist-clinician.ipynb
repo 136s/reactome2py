{
 "cells": [
  {
   "cell_type": "code",
   "execution_count": 1,
   "metadata": {},
   "outputs": [],
   "source": [
    "from reactome2py import content, analysis\n",
    "import pprint \n",
    "import webbrowser\n",
    "import itertools\n",
    "import os"
   ]
  },
  {
   "cell_type": "markdown",
   "metadata": {},
   "source": [
    "#### Pathway enrichment analysis of a patient's biomarkers "
   ]
  },
  {
   "cell_type": "code",
   "execution_count": 2,
   "metadata": {},
   "outputs": [],
   "source": [
    "markers = 'RAS,MAP,IL10,EGF,EGFR,STAT'\n",
    "result = analysis.identifiers(ids=markers)\n",
    "token = result['summary']['token']"
   ]
  },
  {
   "cell_type": "markdown",
   "metadata": {},
   "source": [
    "on the go, we can use the analysis token to browse the result in reactome web portal"
   ]
  },
  {
   "cell_type": "code",
   "execution_count": 3,
   "metadata": {},
   "outputs": [],
   "source": [
    "%%capture\n",
    "url = 'https://reactome.org/PathwayBrowser/#/DTAB=AN&ANALYSIS=' + token\n",
    "webbrowser.open(url)"
   ]
  },
  {
   "cell_type": "markdown",
   "metadata": {},
   "source": [
    "or generate a full report to be reviewed later in time "
   ]
  },
  {
   "cell_type": "code",
   "execution_count": 4,
   "metadata": {},
   "outputs": [],
   "source": [
    " if not os.path.exists('full-report/'):\n",
    "    os.makedirs('full-report/')\n",
    "    \n",
    "analysis.report(token, path='full-report/', file='report.pdf', number='25', resource='TOTAL', \n",
    "                diagram_profile='Modern', analysis_profile='Standard', fireworks_profile='Barium Lithium', \n",
    "                species='Homo sapiens', chunk_size=128)"
   ]
  },
  {
   "cell_type": "markdown",
   "metadata": {},
   "source": [
    "or intwine the enrichment analsyis result _**features**_ inside an in-house pipeline. This would be more time-efficient and close to real world use-cases."
   ]
  },
  {
   "cell_type": "markdown",
   "metadata": {},
   "source": [
    "1 - Find all significant pathways (p < 0.05) ordered by False Discover Rate (FDR)"
   ]
  },
  {
   "cell_type": "code",
   "execution_count": 5,
   "metadata": {},
   "outputs": [],
   "source": [
    "token_result = analysis.token(token, species='Homo sapiens', page_size='-1', page='-1', sort_by='ENTITIES_FDR', \n",
    "                              order='ASC', resource='TOTAL', p_value='0.05', include_disease=True, \n",
    "                              min_entities=None, max_entities=None)"
   ]
  },
  {
   "cell_type": "markdown",
   "metadata": {},
   "source": [
    "we can take a look at the json(dict/list) structure to get a sense of how to parse through fetching information."
   ]
  },
  {
   "cell_type": "code",
   "execution_count": 6,
   "metadata": {},
   "outputs": [],
   "source": [
    "# pprint.pprint(token_result)"
   ]
  },
  {
   "cell_type": "markdown",
   "metadata": {},
   "source": [
    "2 - Fetch the pathway stable identifiers (stIds) for generating downstream results to further investigate. "
   ]
  },
  {
   "cell_type": "code",
   "execution_count": 6,
   "metadata": {},
   "outputs": [],
   "source": [
    "pathways = token_result['pathways']\n",
    "pathways_stId = [p['stId'] for p in pathways] "
   ]
  },
  {
   "cell_type": "markdown",
   "metadata": {},
   "source": [
    "3 - Save the fireworks for systems/molecular biologists or clinicians to review the overall scope of pathways highlighted."
   ]
  },
  {
   "cell_type": "code",
   "execution_count": 7,
   "metadata": {},
   "outputs": [],
   "source": [
    "if not os.path.exists('fireworks/'):\n",
    "    os.makedirs('fireworks/')\n",
    "    \n",
    "content.export_fireworks(species='9606', ext='png', file='fireworks_report', path='fireworks/', quality='10', \n",
    "                         flag=None, flag_interactors=False, sel=[], title=True, margin='15', resource='Total', \n",
    "                         diagram_profile='', coverage=False, token=token, exp_column=None)"
   ]
  },
  {
   "cell_type": "markdown",
   "metadata": {},
   "source": [
    "4 - Fetch downstream pathways stIds that have diagrams, and pass the enrichment analysis result's token to highlight the reactions involved. Save all diagrams for review and comparison."
   ]
  },
  {
   "cell_type": "code",
   "execution_count": 8,
   "metadata": {},
   "outputs": [],
   "source": [
    "%%capture\n",
    "fetch_downstream_pathways = [content.pathways_low_diagram(id=stId, species=None, all_forms=False) for stId in pathways_stId]\n",
    "\n",
    "downstream_pathways = [low_pathway for low_pathway in fetch_downstream_pathways if low_pathway is not None]\n",
    "has_diagram = [p[0]['hasDiagram'] for p in downstream_pathways]\n",
    "downstream_pathway_has_diagram = list(itertools.compress(downstream_pathways, has_diagram))\n",
    "downstream_pathway_stId = [p[0]['stId'] for p in downstream_pathway_has_diagram]\n",
    "\n",
    "if not os.path.exists('diagrams/'):\n",
    "    os.makedirs('diagrams/')\n",
    "    \n",
    "[content.export_diagram(id=stId, ext='png', quality='5', flag_interactors=False, title=True, margin='15',\n",
    "                        ehld=True, diagram_profile='Modern', resource='Total', analysis_profile='Standard', \n",
    "                        token=token, flag=None, sel=[], exp_column=None, file=\"-\".join([stId,'report']), path='diagrams/') \n",
    " for stId in downstream_pathway_stId]"
   ]
  },
  {
   "cell_type": "markdown",
   "metadata": {},
   "source": [
    "NOTE: in all steps we passed the enrichment analysis result **token** to highlight the active reactions unique to this patient's state. "
   ]
  }
 ],
 "metadata": {
  "kernelspec": {
   "display_name": "Python 3",
   "language": "python",
   "name": "python3"
  },
  "language_info": {
   "codemirror_mode": {
    "name": "ipython",
    "version": 3
   },
   "file_extension": ".py",
   "mimetype": "text/x-python",
   "name": "python",
   "nbconvert_exporter": "python",
   "pygments_lexer": "ipython3",
   "version": "3.7.3"
  }
 },
 "nbformat": 4,
 "nbformat_minor": 2
}

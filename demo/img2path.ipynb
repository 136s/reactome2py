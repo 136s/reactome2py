{
 "cells": [
  {
   "cell_type": "code",
   "execution_count": 1,
   "metadata": {},
   "outputs": [],
   "source": [
    "import pandas\n",
    "import reactome2py\n",
    "from reactome2py import analysis, content, utils\n",
    "from collections import defaultdict\n",
    "from itertools import chain\n",
    "from operator import methodcaller"
   ]
  },
  {
   "cell_type": "markdown",
   "metadata": {},
   "source": [
    "#### Assessing pathways and drug targets in Cyclic Multiplexed-Immunofluorescence (cmIF) image biomarkers\n",
    "Resource: https://www.ncbi.nlm.nih.gov/pubmed/31502168\n",
    "\n",
    "1. After mapping proteins to gene names, we wrangle the matrix into a dictionary where each image section would hold the biomarkers as its values. "
   ]
  },
  {
   "cell_type": "code",
   "execution_count": 2,
   "metadata": {},
   "outputs": [],
   "source": [
    "path = \"data/marker_matrix_gene.csv\"\n",
    "\n",
    "df = pandas.read_csv(path, index_col=0)\n",
    "df = df.apply(lambda x : x.str.split(\",\"), axis=0)\n",
    "row_dict = df.T.to_dict('records')\n",
    "\n",
    "def imggenes2dict(row_dict):\n",
    "    dd = defaultdict(list)\n",
    "    dict_items = map(methodcaller('items'), row_dict)\n",
    "    \n",
    "    for k, v in chain.from_iterable(dict_items):\n",
    "        dd[k].extend(v)\n",
    "    \n",
    "    img_dict = dict(dd)\n",
    "    return(img_dict)\n",
    "\n",
    "img_dict = imggenes2dict(row_dict)"
   ]
  },
  {
   "cell_type": "markdown",
   "metadata": {},
   "source": [
    "2. Now we can pass the biomarkers to fetch all possible reactome pathways available for each image segment. "
   ]
  },
  {
   "cell_type": "code",
   "execution_count": 3,
   "metadata": {},
   "outputs": [],
   "source": [
    "result = [analysis.identifiers(ids=\",\".join(d)) for d in img_dict.values()]\n",
    "tokens = [r['summary']['token'] for r in result]\n",
    "\n",
    "\n",
    "def get_pathways(t):\n",
    "    token_result = analysis.token(token=t, species='Homo sapiens', page_size='-1', page='-1', sort_by='ENTITIES_FDR', \n",
    "                                  order='ASC', resource='TOTAL', p_value='1', include_disease=True, \n",
    "                                  min_entities=None, max_entities=None)\n",
    "    l = [p['name'] for p in token_result['pathways']]\n",
    "    l.sort() \n",
    "    return(l)\n",
    "\n",
    "pathways = [get_pathways(t) for t in tokens]"
   ]
  },
  {
   "cell_type": "markdown",
   "metadata": {},
   "source": [
    "3. Given the biomarkers, we can also fetch all available drug targets from Drug Central."
   ]
  },
  {
   "cell_type": "code",
   "execution_count": 4,
   "metadata": {},
   "outputs": [],
   "source": [
    "result_drug_targets = [utils.genelist_drug_target(ids=\",\".join(d), source=\"drugcentral\") for d in img_dict.values()]"
   ]
  }
 ],
 "metadata": {
  "kernelspec": {
   "display_name": "Python 3",
   "language": "python",
   "name": "python3"
  },
  "language_info": {
   "codemirror_mode": {
    "name": "ipython",
    "version": 3
   },
   "file_extension": ".py",
   "mimetype": "text/x-python",
   "name": "python",
   "nbconvert_exporter": "python",
   "pygments_lexer": "ipython3",
   "version": "3.7.3"
  }
 },
 "nbformat": 4,
 "nbformat_minor": 4
}

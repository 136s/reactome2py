{
 "cells": [
  {
   "cell_type": "code",
   "execution_count": 1,
   "metadata": {},
   "outputs": [],
   "source": [
    "import pandas\n",
    "import reactome2py\n",
    "from reactome2py import analysis, content, utils\n",
    "from collections import defaultdict\n",
    "from itertools import chain\n",
    "from operator import methodcaller\n",
    "\n",
    "# https://www.ncbi.nlm.nih.gov/pubmed/31502168 \n",
    "path = \"data/marker_matrix_gene.csv\"\n",
    "\n",
    "df = pandas.read_csv(path, index_col=0)\n",
    "df = df.apply(lambda x : x.str.split(\",\"), axis=0) # 1 to many relation of protiens to genes - relapce cells string to list type\n",
    "row_dict = df.T.to_dict('records')\n",
    "\n",
    "def imggenes2dict(row_dict):\n",
    "    dd = defaultdict(list)\n",
    "    dict_items = map(methodcaller('items'), row_dict)\n",
    "    \n",
    "    for k, v in chain.from_iterable(dict_items):\n",
    "        dd[k].extend(v)\n",
    "    \n",
    "    img_dict = dict(dd)\n",
    "    return(img_dict)\n",
    "\n",
    "img_dict = imggenes2dict(row_dict)\n",
    "result = [analysis.identifiers(ids=\",\".join(d)) for d in img_dict.values()]\n",
    "tokens = [r['summary']['token'] for r in result]\n",
    "\n",
    "\n",
    "def get_pathways(t):\n",
    "    token_result = analysis.token(token=t, species='Homo sapiens', page_size='-1', page='-1', sort_by='ENTITIES_FDR', \n",
    "                                  order='ASC', resource='TOTAL', p_value='1', include_disease=True, \n",
    "                                  min_entities=None, max_entities=None)\n",
    "    l = [p['name'] for p in token_result['pathways']]\n",
    "    l.sort() \n",
    "    return(l)\n",
    "\n",
    "pathways = [get_pathways(t) for t in tokens]"
   ]
  }
 ],
 "metadata": {
  "kernelspec": {
   "display_name": "Python 3",
   "language": "python",
   "name": "python3"
  },
  "language_info": {
   "codemirror_mode": {
    "name": "ipython",
    "version": 3
   },
   "file_extension": ".py",
   "mimetype": "text/x-python",
   "name": "python",
   "nbconvert_exporter": "python",
   "pygments_lexer": "ipython3",
   "version": "3.7.3"
  }
 },
 "nbformat": 4,
 "nbformat_minor": 4
}
